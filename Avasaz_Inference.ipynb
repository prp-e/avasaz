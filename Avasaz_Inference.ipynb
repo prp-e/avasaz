{
  "nbformat": 4,
  "nbformat_minor": 0,
  "metadata": {
    "colab": {
      "provenance": [],
      "gpuType": "T4"
    },
    "kernelspec": {
      "name": "python3",
      "display_name": "Python 3"
    },
    "language_info": {
      "name": "python"
    },
    "accelerator": "GPU"
  },
  "cells": [
    {
      "cell_type": "markdown",
      "source": [
        "# Avasaz\n",
        "\n",
        "Avasaz is a _state-of-the-art generative AI model_ which helps you turn your ideas into your desired type of music in just a few minutes. This model has been trained on a variety of musical styles and genres and developed by [Muhammadreza Haghiri](https://haghiri75.com/en) as part a collection of AI systems.\n",
        "\n",
        "## Model weights and reproducibility\n",
        "\n",
        "You can have access to the weights here on [HuggingFace](https://huggingface.co/avasaz/avasaz-large). Also there is a repository available on github as well which you can access [here](https://github.com/prp-e/avasaz)."
      ],
      "metadata": {
        "id": "TlvN5m66Qj-_"
      }
    },
    {
      "cell_type": "code",
      "source": [
        "#@markdown # Installing libraries and dependencies\n",
        "#@markdown If it asks for restarting the runtime, just ignore it. It'll work perfectly without any change.\n",
        "!git clone https://github.com/facebookresearch/audiocraft\n",
        "%cd audiocraft\n",
        "!pip install -e . -q"
      ],
      "metadata": {
        "cellView": "form",
        "id": "mtYHWy5HQijK"
      },
      "execution_count": null,
      "outputs": []
    },
    {
      "cell_type": "code",
      "source": [
        "#@markdown # Setting up and running the model\n",
        "#@markdown Remember this step can be time consuming since the model is very large. Smaller models will be available soon.\n",
        "\n",
        "from audiocraft.models import MusicGen\n",
        "from audiocraft.models import MultiBandDiffusion\n",
        "import torch\n",
        "USE_DIFFUSION_DECODER = False\n",
        "model = MusicGen.get_pretrained('avasaz/avasaz-large')\n",
        "if USE_DIFFUSION_DECODER:\n",
        "    mbd = MultiBandDiffusion.get_mbd_musicgen()"
      ],
      "metadata": {
        "cellView": "form",
        "id": "x-d_JUcGRp7C"
      },
      "execution_count": null,
      "outputs": []
    },
    {
      "cell_type": "code",
      "source": [
        "#@markdown # Set model parameters\n",
        "\n",
        "duration = 20 #@param {type:\"slider\", min: 0, max: 30, step:1}\n",
        "\n",
        "model.set_generation_params(\n",
        "    use_sampling=True,\n",
        "    top_k=250,\n",
        "    duration=duration\n",
        ")"
      ],
      "metadata": {
        "cellView": "form",
        "id": "cCdTZNDnV0Qj"
      },
      "execution_count": 5,
      "outputs": []
    },
    {
      "cell_type": "code",
      "source": [
        "#@markdown # Inference\n",
        "#@markdown due to the large size of the model, it may take up to 2 minutes to generate a piece of music with avarage time of 25 seconds. If you just want to test the outcome of the model, put duration on 10 or 15 seconds.\n",
        "\n",
        "prompt = \"theme song for an epic movie, in the style of hans zimmer\" #@param {type: \"string\"}\n",
        "\n",
        "\n",
        "from audiocraft.utils.notebook import display_audio\n",
        "\n",
        "output = model.generate(\n",
        "    descriptions=[prompt],\n",
        "    progress=True, return_tokens=True\n",
        ")\n",
        "display_audio(output[0], sample_rate=32000)\n",
        "if USE_DIFFUSION_DECODER:\n",
        "    out_diffusion = mbd.tokens_to_wav(output[1])\n",
        "    display_audio(out_diffusion, sample_rate=32000)"
      ],
      "metadata": {
        "cellView": "form",
        "id": "NE6G1TaeSFsQ"
      },
      "execution_count": null,
      "outputs": []
    }
  ]
}